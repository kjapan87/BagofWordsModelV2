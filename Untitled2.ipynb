{
  "nbformat": 4,
  "nbformat_minor": 0,
  "metadata": {
    "colab": {
      "name": "Untitled2.ipynb",
      "provenance": [],
      "authorship_tag": "ABX9TyNggKa7nXxgMlnvVzsdJU9U",
      "include_colab_link": true
    },
    "kernelspec": {
      "name": "python3",
      "display_name": "Python 3"
    }
  },
  "cells": [
    {
      "cell_type": "markdown",
      "metadata": {
        "id": "view-in-github",
        "colab_type": "text"
      },
      "source": [
        "<a href=\"https://colab.research.google.com/github/kjapan87/BagofWordsModelV2/blob/main/Untitled2.ipynb\" target=\"_parent\"><img src=\"https://colab.research.google.com/assets/colab-badge.svg\" alt=\"Open In Colab\"/></a>"
      ]
    },
    {
      "cell_type": "code",
      "metadata": {
        "id": "QXLSeOtPLMQg",
        "colab": {
          "base_uri": "https://localhost:8080/",
          "height": 386
        },
        "outputId": "32a02335-6db1-47b7-8199-67552693d12f"
      },
      "source": [
        "# -*- coding: utf-8 -*-\n",
        "\"\"\"\n",
        "Created on Sun Aug  9 11:31:44 2020\n",
        "\n",
        "@author: Dell\n",
        "\"\"\"\n",
        "# -*- coding: utf-8 -*-\n",
        "\"\"\"\n",
        "Spyderエディタ\n",
        "\n",
        "これは一時的なスクリプトファイルです\n",
        "\"\"\"\n",
        "\n",
        "import numpy as np\n",
        "import pandas as pd\n",
        "import matplotlib.pyplot as plt #add japanese language dictionary\n",
        "from sklearn.feature_extraction.text import CountVectorizer #Library for bag-of-words-model\n",
        "dataset = pd.read_csv(\"RESTAU~1.TSV\",delimiter = \"\\t\")\n",
        "x = dataset.iloc[0:1000,0].values #iloc is for defining location,\"values\" makes series into numpy array data\n",
        "y = dataset.iloc[0:1000,1].values\n",
        "\n",
        "\n",
        "import nltk # a pre-developed library for data analysis techniques START PRE_PROCESSING\n",
        "import re #re= regular expression\n",
        "from nltk.stem.porter import PorterStemmer #for english, converts words to root words\n",
        "nltk.download(\"stopwords\")\n",
        "from nltk.corpus import stopwords #stopwords will be compared with our data and then removed\n",
        "corpus = []\n",
        "for i in range(0,1000):\n",
        "    review = re.sub(\"[^a-zA-Z]\",\" \",x[i]) #running through the entire document rows, and this syntax is as follows pattern,replace,string,count,flag. Please see notebook\n",
        "    review = review.lower() #converts entire \"review\" cloumn in lower case, not language dependent\n",
        "    review = review.split()\n",
        "    stemming = PorterStemmer() #stemming object is refering to this class, stemming to porterstemmer\n",
        "    review = [stemming.stem(word) for word in review if not word in set(stopwords.words(\"english\"))]\n",
        "    review = \" \".join(review)    \n",
        "    corpus.append(review) #kept the above changes in the corpus, like saving it.\n",
        "    \n",
        "    \n",
        "#BAG OF WORDS MODEL\n",
        "BOWM = CountVectorizer() #purpose of table & freuence document 1 and document2\n",
        "x = BOWM.fit_transform(corpus).toarray() #\n",
        "\n",
        "from sklearn.model_selection import train_test_split #data and splitting in training & testing\n",
        "x_train,x_test,y_train,y_test = train_test_split(x,y,test_size = 0.30,train_size = 0.70,random_state = 0) \n",
        "\n",
        "#Naive-Bayes ML model\n",
        "from sklearn.svm import SVC\n",
        "supportVector = SVC(kernel = \"rbf\")\n",
        "supportVector.fit(x_train,y_train)\n",
        "#YPredict is the using x_test to \n",
        "YPredict = supportVector.predict(x_test)\n",
        "print(YPredict)\n",
        "\n",
        "#confusion matrix purpose is to \n",
        "from sklearn.metrics import confusion_matrix,classification_report\n",
        "Confusion = confusion_matrix(y_test, YPredict)\n",
        "print(Confusion)\n",
        "\n",
        "Report = classification_report(y_test, YPredict)\n",
        "print(Report)\n",
        "\n",
        "\n"
      ],
      "execution_count": null,
      "outputs": [
        {
          "output_type": "stream",
          "text": [
            "[nltk_data] Downloading package stopwords to /root/nltk_data...\n",
            "[nltk_data]   Unzipping corpora/stopwords.zip.\n",
            "[0 0 0 0 0 0 1 0 0 1 1 1 0 1 1 1 0 0 0 1 0 0 1 0 0 1 0 1 1 1 0 0 0 0 1 0 0\n",
            " 0 0 1 1 0 0 0 0 0 0 1 0 0 1 0 1 1 0 0 0 0 0 1 0 0 0 0 0 0 0 0 0 0 1 1 1 0\n",
            " 0 0 0 1 0 0 1 1 0 0 1 0 0 0 1 0 0 1 0 0 0 0 0 0 0 0 0 0 1 1 0 0 1 1 0 0 0\n",
            " 1 0 0 0 0 1 1 1 1 0 0 1 0 0 0 0 1 0 0 0 0 0 0 1 1 1 1 1 0 1 1 1 0 0 0 0 0\n",
            " 0 0 0 0 1 1 0 0 1 0 1 1 0 0 1 1 1 0 0 0 0 0 0 1 0 0 0 0 0 1 0 0 1 0 0 0 0\n",
            " 0 0 1 0 1 0 0 0 0 0 0 1 1 0 0 1 1 1 0 0 0 1 0 0 0 1 0 0 0 1 0 1 1 0 1 0 0\n",
            " 0 0 0 1 0 0 1 0 0 0 0 0 1 0 0 0 0 0 1 1 1 1 0 0 1 0 0 0 0 0 1 0 0 0 0 0 0\n",
            " 1 0 1 0 0 0 1 0 0 0 0 0 0 1 0 0 1 0 1 0 1 0 1 0 0 0 0 1 0 0 0 0 0 1 0 0 1\n",
            " 0 0 1 0]\n",
            "[[132  11]\n",
            " [ 74  83]]\n",
            "              precision    recall  f1-score   support\n",
            "\n",
            "           0       0.64      0.92      0.76       143\n",
            "           1       0.88      0.53      0.66       157\n",
            "\n",
            "    accuracy                           0.72       300\n",
            "   macro avg       0.76      0.73      0.71       300\n",
            "weighted avg       0.77      0.72      0.71       300\n",
            "\n"
          ],
          "name": "stdout"
        }
      ]
    }
  ]
}